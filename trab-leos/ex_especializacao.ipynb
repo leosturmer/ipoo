{
 "cells": [
  {
   "cell_type": "markdown",
   "metadata": {},
   "source": [
    "### Objetos são programas especialistas"
   ]
  },
  {
   "cell_type": "code",
   "execution_count": null,
   "metadata": {},
   "outputs": [],
   "source": [
    "area_retangulo = calculador.calcular_area_retangulo(largura, altura)\n",
    "area_quadrado = calculador.calcular_area_quadrado(lado)\n",
    "\n",
    "gerador_relatorios.escrever_resumo_da_area(area_retangulo)\n",
    "gerador_relatorios.escrever_proposta_de_venda_terreno(area_quadrado)"
   ]
  },
  {
   "cell_type": "code",
   "execution_count": 1,
   "metadata": {},
   "outputs": [],
   "source": [
    "class Calculador:\n",
    "    def __init__(self):\n",
    "        self.memoria = []\n",
    "\n",
    "    def calcular_area_retangulo(self, largura, altura):\n",
    "        resultado = largura * altura\n",
    "        self.memoria.append(resultado)\n",
    "        return resultado\n",
    "    \n",
    "    def calcular_area_quadrado(self, lado):\n",
    "        resultado = lado * lado\n",
    "        self.memoria.append(resultado)\n",
    "        return resultado"
   ]
  },
  {
   "cell_type": "markdown",
   "metadata": {},
   "source": [
    "#### Usando objetos do tipo `Calculador`"
   ]
  },
  {
   "cell_type": "code",
   "execution_count": 2,
   "metadata": {},
   "outputs": [],
   "source": [
    "calculador1 = Calculador()\n",
    "calculador2 = Calculador()"
   ]
  },
  {
   "cell_type": "code",
   "execution_count": 9,
   "metadata": {},
   "outputs": [
    {
     "data": {
      "text/plain": [
       "[21.630000000000003, 21.630000000000003, 100]"
      ]
     },
     "execution_count": 9,
     "metadata": {},
     "output_type": "execute_result"
    }
   ],
   "source": [
    "calculador1.memoria"
   ]
  },
  {
   "cell_type": "code",
   "execution_count": 8,
   "metadata": {},
   "outputs": [
    {
     "data": {
      "text/plain": [
       "[400]"
      ]
     },
     "execution_count": 8,
     "metadata": {},
     "output_type": "execute_result"
    }
   ],
   "source": [
    "calculador2.memoria"
   ]
  },
  {
   "cell_type": "markdown",
   "metadata": {},
   "source": [
    "#### Conversando com os objetos"
   ]
  },
  {
   "cell_type": "code",
   "execution_count": 7,
   "metadata": {},
   "outputs": [
    {
     "data": {
      "text/plain": [
       "400"
      ]
     },
     "execution_count": 7,
     "metadata": {},
     "output_type": "execute_result"
    }
   ],
   "source": [
    "calculador1.calcular_area_retangulo(10.3, 2.1)\n",
    "calculador1.calcular_area_quadrado(10)\n",
    "calculador2.calcular_area_quadrado(20)"
   ]
  },
  {
   "cell_type": "code",
   "execution_count": null,
   "metadata": {},
   "outputs": [],
   "source": []
  }
 ],
 "metadata": {
  "kernelspec": {
   "display_name": "Python 3",
   "language": "python",
   "name": "python3"
  },
  "language_info": {
   "codemirror_mode": {
    "name": "ipython",
    "version": 3
   },
   "file_extension": ".py",
   "mimetype": "text/x-python",
   "name": "python",
   "nbconvert_exporter": "python",
   "pygments_lexer": "ipython3",
   "version": "3.13.2"
  }
 },
 "nbformat": 4,
 "nbformat_minor": 2
}
