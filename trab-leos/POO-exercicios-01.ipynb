{
 "cells": [
  {
   "cell_type": "markdown",
   "metadata": {},
   "source": [
    "# POO - Exercícios de Interpretação e Codificação\n",
    "\n",
    "Este notebook contém 5 exercícios de interpretação de código e 5 exercícios de codificação relacionados a Programação Orientada a Objetos (POO). Os tópicos abordados incluem definição de classes, construtores, instanciação, getters e setters, e invocação de métodos."
   ]
  },
  {
   "cell_type": "markdown",
   "metadata": {},
   "source": [
    "## Parte 1: Exercícios de Interpretação de Código"
   ]
  },
  {
   "cell_type": "markdown",
   "metadata": {},
   "source": [
    "### Exercício 1: Definição de Classe com Propriedades Padrão\n",
    "\n",
    "Considere o seguinte exemplo de código:\n",
    "\n",
    "```python\n",
    "class Pessoa:\n",
    "    nome = \"Desconhecido\"\n",
    "    idade = 0\n",
    "\n",
    "p = Pessoa()\n",
    "print(p.nome, p.idade)\n",
    "```\n",
    "\n",
    "**Pergunta:** O que será exibido ao executar o código acima? Explique o motivo."
   ]
  },
  {
   "cell_type": "markdown",
   "metadata": {},
   "source": [
    "**Resposta**: O código cria uma classe chamada \"Pessoa\" e, sempre que algum objeto é criado nesta classe, ele recebe os parâmetros \"nome\" como \"Desconhecido\" e \"idade\" como \"0\". Ao executar o código, a impressão mostrará isso. \n",
    "\n",
    "Isso ocorre porque os parâmetros estão definidos previamente, não são solicitados na hora de criar um objeto desta classe."
   ]
  },
  {
   "cell_type": "markdown",
   "metadata": {},
   "source": [
    "### Exercício 2: Classe com Construtor\n",
    "\n",
    "Considere o seguinte exemplo de código:\n",
    "\n",
    "```python\n",
    "class Produto:\n",
    "    def __init__(self, nome, preco):\n",
    "        self.nome = nome\n",
    "        self.preco = preco\n",
    "\n",
    "p = Produto(\"Caneta\", 1.50)\n",
    "print(p.nome, p.preco)\n",
    "```\n",
    "\n",
    "**Pergunta:** O que será exibido ao executar o código acima? Explique como o construtor funciona."
   ]
  },
  {
   "cell_type": "markdown",
   "metadata": {},
   "source": [
    "**Resposta**: O código cria uma classe de \"Produto\" onde é exigido que se insira o nome e o valor ao criar o objeto. Ao criar a objeto \"p\", o código receberá o nome \"Caneta\" e o preço \"1.50\", e isso será exibido na impressão.\n",
    "\n",
    "O construtor \"init\" define esses parâmetros para a classe \"Produto\" e, por exigir a inserção de nome e preço (valores que estão dentro dos parênteses), esses valores deverão ser obrigatoriamente inseridos ao criar um objeto. Caso contrário, mostrará uma mensagem de erro."
   ]
  },
  {
   "cell_type": "markdown",
   "metadata": {},
   "source": [
    "### Exercício 3: Instanciação de Objetos\n",
    "\n",
    "Considere o seguinte exemplo de código:\n",
    "\n",
    "```python\n",
    "class Animal:\n",
    "    def __init__(self, especie):\n",
    "        self.especie = especie\n",
    "\n",
    "a1 = Animal(\"Cachorro\")\n",
    "a2 = Animal(\"Gato\")\n",
    "print(a1.especie, a2.especie)\n",
    "```\n",
    "\n",
    "**Pergunta:** O que será exibido ao executar o código acima? Explique como a instanciação funciona."
   ]
  },
  {
   "cell_type": "markdown",
   "metadata": {},
   "source": [
    "**Resposta**: O código cria uma classe \"Animal\" e exige que seja cadastrada a \"Espécie\" ao criar um objeto desta classe. Ao criar os objetos a1 e a2, as espécies são definidas como \"Cachorro\" e \"Gato\", e isso será impresso ao executar o código.\n",
    "\n",
    "A instanciação funciona ao inserir o valor exigido pelo construtor para aquela classe de objetos."
   ]
  },
  {
   "cell_type": "markdown",
   "metadata": {},
   "source": [
    "### Exercício 4: Getters e Setters\n",
    "\n",
    "Considere o seguinte exemplo de código:\n",
    "\n",
    "```python\n",
    "class Conta:\n",
    "    def __init__(self, saldo):\n",
    "        self.__saldo = saldo\n",
    "\n",
    "    def get_saldo(self):\n",
    "        return self.__saldo\n",
    "\n",
    "    def set_saldo(self, valor):\n",
    "        if valor >= 0:\n",
    "            self.__saldo = valor\n",
    "\n",
    "c = Conta(100)\n",
    "print(c.get_saldo())\n",
    "c.set_saldo(200)\n",
    "print(c.get_saldo())\n",
    "```\n",
    "\n",
    "**Pergunta:** O que será exibido ao executar o código acima? Explique o papel dos métodos `get_saldo` e `set_saldo`."
   ]
  },
  {
   "cell_type": "markdown",
   "metadata": {},
   "source": [
    "**Resposta**: Ao executar o código, o objeto \"c\" será criado como classe \"Conta\". Por conta da exigência do construtor de ter um valor para a variável \"saldo\", o código receberá o valor 100 e isso será impresso. Na sequência a variável \"c\" receberá uma alteração de valor para 200 e será imrpesso o valor de 200 no saldo.\n",
    "\n",
    "O método \"get_saldo\" mostra o valor da variável variável. No exemplo do código, ela recebe o valor 100 para o saldo, e isso é mostrado.\n",
    "\n",
    "Já o método \"set_saldo\" exige que um valor seja inserido, então ele muda o valor daquela variável. No exemplo, o novo valor é 200, então o print mostrará este valor na variável."
   ]
  },
  {
   "cell_type": "markdown",
   "metadata": {},
   "source": [
    "### Exercício 5: Invocação de Métodos\n",
    "\n",
    "Considere o seguinte exemplo de código:\n",
    "\n",
    "```python\n",
    "class Calculadora:\n",
    "    def somar(self, a, b):\n",
    "        return a + b\n",
    "\n",
    "calc = Calculadora()\n",
    "resultado = calc.somar(5, 3)\n",
    "print(resultado)\n",
    "```\n",
    "\n",
    "**Pergunta:** O que será exibido ao executar o código acima? Explique como o método `somar` é invocado."
   ]
  },
  {
   "cell_type": "markdown",
   "metadata": {},
   "source": [
    "**Resposta**: O código cria uma classe \"Calculadora\" e a função \"somar\" exige a inserção de dois números, \"a\" e \"b\", e faz a sua soma. Ao ser executado, o exemplo recebe os números 5 e 3, que serão somados, mostrando o resultado 8.\n",
    "\n",
    "O método \"somar\" é invocado após a criação de um objeto da classe \"Calculadora\". No exemplo, o objeto \"calc\" é criado dentro da classe \"Calculadora\" e, em seguida, é criada a variável \"Resultado\" para receber o resultado da função \"somar\". Como os números inseridos foram 5 e 3, o resultado será 8."
   ]
  },
  {
   "cell_type": "markdown",
   "metadata": {},
   "source": [
    "## Parte 2: Exercícios de Codificação"
   ]
  },
  {
   "cell_type": "markdown",
   "metadata": {},
   "source": [
    "### Exercício 1: Criar uma Classe com Propriedades Padrão\n",
    "\n",
    "Crie uma classe chamada `Carro` com as propriedades padrão `marca` e `ano`. Instancie um objeto dessa classe e exiba os valores das propriedades."
   ]
  },
  {
   "cell_type": "code",
   "execution_count": 8,
   "metadata": {},
   "outputs": [
    {
     "name": "stdout",
     "output_type": "stream",
     "text": [
      "Renault - 2025\n"
     ]
    }
   ],
   "source": [
    "class Carro:\n",
    "    marca = \"Renault\"\n",
    "    ano = 2025\n",
    "\n",
    "c = Carro()\n",
    "print(c.marca,\"-\",c.ano)"
   ]
  },
  {
   "cell_type": "markdown",
   "metadata": {},
   "source": [
    "### Exercício 2: Criar uma Classe com Construtor\n",
    "\n",
    "Crie uma classe chamada `Livro` com um construtor que receba os parâmetros `titulo` e `autor`. Instancie um objeto dessa classe e exiba os valores das propriedades."
   ]
  },
  {
   "cell_type": "code",
   "execution_count": 7,
   "metadata": {},
   "outputs": [
    {
     "name": "stdout",
     "output_type": "stream",
     "text": [
      "Tieta - Jorge Amado\n"
     ]
    }
   ],
   "source": [
    "class Livro:\n",
    "    def __init__(self, titulo, autor):\n",
    "        self.titulo = titulo\n",
    "        self.autor = autor\n",
    "\n",
    "l = Livro(\"Tieta\", \"Jorge Amado\")\n",
    "print(l.titulo,\"-\",l.autor)"
   ]
  },
  {
   "cell_type": "markdown",
   "metadata": {},
   "source": [
    "### Exercício 3: Instanciar Objetos e Acessar Propriedades\n",
    "\n",
    "Crie uma classe chamada `Aluno` com as propriedades `nome` e `matricula`. Instancie dois objetos dessa classe com valores diferentes e exiba os valores das propriedades de cada objeto."
   ]
  },
  {
   "cell_type": "code",
   "execution_count": 9,
   "metadata": {},
   "outputs": [
    {
     "name": "stdout",
     "output_type": "stream",
     "text": [
      "Nome: Leonardo. Matrícula: 123\n",
      "Nome: Gustavo. Matrícula: 456\n"
     ]
    }
   ],
   "source": [
    "class Aluno:\n",
    "    def __init__(self, nome, matricula):\n",
    "        self.nome = nome\n",
    "        self.matricula = matricula\n",
    "\n",
    "a1 = Aluno(\"Leonardo\", 123)\n",
    "a2 = Aluno(\"Gustavo\", 456)\n",
    "\n",
    "print(f\"Nome: {a1.nome}. Matrícula: {a1.matricula}\")\n",
    "print(f\"Nome: {a2.nome}. Matrícula: {a2.matricula}\")"
   ]
  },
  {
   "cell_type": "markdown",
   "metadata": {},
   "source": [
    "### Exercício 4: Implementar Getters e Setters\n",
    "\n",
    "Crie uma classe chamada `ContaBancaria` com uma propriedade privada `saldo`. Implemente métodos `get_saldo` e `set_saldo` para acessar e modificar o saldo, garantindo que o saldo nunca seja negativo."
   ]
  },
  {
   "cell_type": "code",
   "execution_count": 49,
   "metadata": {},
   "outputs": [
    {
     "name": "stdout",
     "output_type": "stream",
     "text": [
      "100\n",
      "300\n"
     ]
    }
   ],
   "source": [
    "class ContaBancaria:\n",
    "    def __init__(self, saldo):\n",
    "        self.saldo = saldo\n",
    "    \n",
    "    def get_saldo(self):\n",
    "        return self.saldo\n",
    "    \n",
    "    def set_saldo(self, valor):\n",
    "        if valor >= 0:\n",
    "            self.saldo = valor\n",
    "    \n",
    "c = ContaBancaria(100)\n",
    "c.get_saldo\n",
    "print(c.saldo)\n",
    "\n",
    "c.set_saldo(300)\n",
    "print(c.saldo)"
   ]
  },
  {
   "cell_type": "markdown",
   "metadata": {},
   "source": [
    "### Exercício 5: Criar Métodos e Invocá-los\n",
    "\n",
    "Crie uma classe chamada `Retangulo` com as propriedades `largura` e `altura`. Adicione um método chamado `calcular_area` que retorna a área do retângulo. Instancie um objeto dessa classe, defina os valores de largura e altura, e exiba a área calculada."
   ]
  },
  {
   "cell_type": "code",
   "execution_count": 47,
   "metadata": {},
   "outputs": [
    {
     "name": "stdout",
     "output_type": "stream",
     "text": [
      "50\n"
     ]
    }
   ],
   "source": [
    "class Retangulo:\n",
    "      def __init__ (self, largura, altura):\n",
    "          self.largura = largura\n",
    "          self.altura = altura\n",
    "\n",
    "      def calcular_area(self):\n",
    "        return self.largura * self.altura\n",
    "\n",
    "r = Retangulo(10, 5)\n",
    "\n",
    "r.calcular_area()\n",
    "\n",
    "print(r.calcular_area())\n"
   ]
  }
 ],
 "metadata": {
  "kernelspec": {
   "display_name": "Python 3",
   "language": "python",
   "name": "python3"
  },
  "language_info": {
   "codemirror_mode": {
    "name": "ipython",
    "version": 3
   },
   "file_extension": ".py",
   "mimetype": "text/x-python",
   "name": "python",
   "nbconvert_exporter": "python",
   "pygments_lexer": "ipython3",
   "version": "3.13.2"
  }
 },
 "nbformat": 4,
 "nbformat_minor": 4
}
