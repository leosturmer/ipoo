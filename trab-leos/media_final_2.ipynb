{
 "cells": [
  {
   "cell_type": "markdown",
   "metadata": {},
   "source": [
    "### Calcular média de alunos e turma\n",
    "\n",
    "Pede nome, turma, cinco notas e média. O programa mostra no final o nome, a turma, as cinco notas, a média e se foi aprovado.\n",
    "\n",
    "// As 5 notas sempre são manipuladas juntas, pois pertencem ao mesmo aluno. São listas ordenadas.\n",
    "// "
   ]
  },
  {
   "cell_type": "code",
   "execution_count": 39,
   "metadata": {},
   "outputs": [],
   "source": [
    "class Aluno:\n",
    "    def __init__(self, nome, turma):     # Aqui a gente define o que vai ter\n",
    "        self.nome = nome\n",
    "        self.turma = turma\n",
    "        self.situacao = 'cursando'\n",
    "        self.notas = []\n",
    "        self.media = 0.0\n",
    "\n",
    "    def receber_nota(self, uma_nota):\n",
    "        self.notas.append(uma_nota)\n",
    "\n",
    "    def calcular_media(self):\n",
    "        total_notas = sum(self.notas) #sum = soma da snotas\n",
    "        if total_notas >= 0:\n",
    "            self.media = total_notas / len(self.notas) # len = comprimento tabela\n",
    "    #        self.atualizar_situacao()\n",
    "\n",
    "    def atualizar_situacao(self):\n",
    "        if len(self.notas) >=3:\n",
    "            if self.media >= 7:\n",
    "                self.situacao = \"aprovado\"\n",
    "            else:\n",
    "                self.situacao = \"reprovado\"\n",
    "\n",
    "\n",
    "def imprimir_boletim(turma):\n",
    "    for aluno in turma:\n",
    "        boletim = f\"Nome: {aluno.nome}    Turma: {aluno.turma}   Notas: {aluno.notas}   Média: {aluno.media}    Situação: {aluno.situacao}\"\n",
    "        print(boletim)\n",
    "\n",
    "def cadastrar_aluno(turma):\n",
    "    _nome = input(\"Nome: \")\n",
    "    _turma = input(\"Turma: \")\n",
    "\n",
    "    _um_aluno = Aluno(_nome, _turma)\n",
    "\n",
    "    for n in range(3):\n",
    "        _nota = float(input(f\"Nota {n+1}:  \"))\n",
    "        _um_aluno.receber_nota(_nota)\n",
    "\n",
    "    _um_aluno.calcular_media()\n",
    "    _um_aluno.atualizar_situacao()\n",
    "\n",
    "    turma.append(_um_aluno)"
   ]
  },
  {
   "cell_type": "code",
   "execution_count": 40,
   "metadata": {},
   "outputs": [
    {
     "name": "stdout",
     "output_type": "stream",
     "text": [
      "Nome: 0    Turma: 0   Notas: [0.0, 0.0, 0.0]   Média: 0.0    Situação: reprovado\n",
      "Nome: 0    Turma: 0   Notas: [0.0, 0.0, 0.0]   Média: 0.0    Situação: reprovado\n",
      "Nome: 0    Turma: 0   Notas: [0.0, 0.0, 0.0]   Média: 0.0    Situação: reprovado\n"
     ]
    }
   ],
   "source": [
    "\n",
    "\n",
    "curso = []\n",
    "\n",
    "for i in range(3):\n",
    "    cadastrar_aluno(curso)\n",
    "\n",
    "imprimir_boletim(curso)\n"
   ]
  }
 ],
 "metadata": {
  "kernelspec": {
   "display_name": "Python 3",
   "language": "python",
   "name": "python3"
  },
  "language_info": {
   "name": "python",
   "version": "3.13.2"
  }
 },
 "nbformat": 4,
 "nbformat_minor": 2
}
